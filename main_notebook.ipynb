{
 "cells": [
  {
   "cell_type": "markdown",
   "metadata": {},
   "source": [
    "# Training and Evaluation of the Multitask Learning Model"
   ]
  },
  {
   "cell_type": "markdown",
   "metadata": {},
   "source": [
    "## Imports"
   ]
  },
  {
   "cell_type": "code",
   "execution_count": null,
   "metadata": {},
   "outputs": [],
   "source": [
    "import ipywidgets as widgets\n",
    "from PIL import Image, ImageOps, ImageDraw, ImageFont\n",
    "\n",
    "from sklearn.metrics import confusion_matrix\n",
    "from tqdm.notebook import tqdm\n",
    "from matplotlib.pyplot import imshow\n",
    "import matplotlib.pyplot as pltb\n",
    "\n",
    "import detectron2\n",
    "from detectron2.utils.visualizer import ColorMode\n",
    "from detectron2.data import build_detection_test_loader\n",
    "from detectron2.data.datasets import register_coco_instances\n",
    "from detectron2.data import MetadataCatalog\n",
    "from detectron2.utils.visualizer import Visualizer\n",
    "from detectron2.utils.logger import setup_logger\n",
    "from detectron2.config import get_cfg\n",
    "from detectron2.engine import DefaultPredictor\n",
    "from detectron2 import model_zoo\n",
    "\n",
    "import torch\n",
    "import torchvision\n",
    "from src.utils_tumor import get_data_fr_paths, get_cocos_from_data_fr, get_advanced_dis_data_fr, format_seg_names\n",
    "import src.utils_detectron as ud\n",
    "import src.detec_helper as dh\n",
    "from src.utils_detectron import F_KEY, CLASS_KEY, ENTITY_KEY\n",
    "from src.categories import make_cat_advanced, cat_mapping_new, cat_naming_new, reverse_cat_list\n",
    "\n",
    "\n",
    "# import some common libraries\n",
    "import numpy as np\n",
    "import random\n",
    "import os\n",
    "import sys\n",
    "import nrrd\n",
    "import cv2\n",
    "import pandas as pd\n",
    "\n",
    "from sklearn.metrics import cohen_kappa_score\n",
    "\n",
    "setup_logger()\n",
    "cfg = get_cfg()\n",
    "print(detectron2.__version__)"
   ]
  },
  {
   "cell_type": "markdown",
   "metadata": {},
   "source": [
    "## Setup and Training"
   ]
  },
  {
   "cell_type": "code",
   "execution_count": null,
   "metadata": {
    "tags": [
     "outputPrepend"
    ]
   },
   "outputs": [],
   "source": [
    "# %% Define the model / Load and train it!\n",
    "\n",
    "# names\n",
    "cfg.OUTPUT_DIR = \"./models\"\n",
    "model_str = \"model_final.pth\"\n",
    "\n",
    "# iters\n",
    "cfg.SOLVER.MAX_ITER = 40000    # Maximum number of iterations for training\n",
    "\n",
    "\n",
    "# General definitions:\n",
    "mask_it = True                 # Apply Segmentations \n",
    "simple = True                  # Extinguish between benign and malignant only\n",
    "advanced = True                # Advanced division between train test and valid set\n",
    "train = True                  # Define whether to train or load a model\n",
    "\n",
    "\n",
    "# load dataframe and paths\n",
    "df, paths = get_data_fr_paths()\n",
    "df_ex, paths_ex = get_data_fr_paths(mode=True)\n",
    "\n",
    "# prepare all datasets to coco format\n",
    "if train:\n",
    "    print('remake coco')\n",
    "    #cocos = get_cocos_from_data_fr(df, paths, save=True, simple=simple)\n",
    "\n",
    "dis = get_advanced_dis_data_fr(df)\n",
    "df.head()\n",
    "\n",
    "# Register datasets\n",
    "path = os.path.join(os.getcwd())\n",
    "pic_path = path #os.path.join(path, \"PNG\")\n",
    "pic_path_external = os.path.join(path, \"PNG_external\")\n",
    "\n",
    "register_coco_instances(\n",
    "    \"my_dataset_train\", {}, os.path.join(path, \"training_extended.json\"), pic_path\n",
    ")\n",
    "register_coco_instances(\n",
    "    \"my_dataset_valid\", {}, os.path.join(path, \"test.json\"), pic_path\n",
    ")\n",
    "register_coco_instances(\n",
    "    \"my_dataset_test\", {}, os.path.join(\n",
    "        path, \"test_external.json\"), pic_path_external\n",
    ")\n",
    "\n",
    "# select the right network\n",
    "if mask_it:\n",
    "    cfg.merge_from_file(\n",
    "        model_zoo.get_config_file(\n",
    "            \"COCO-InstanceSegmentation/mask_rcnn_X_101_32x8d_FPN_3x.yaml\"\n",
    "        )\n",
    "    )\n",
    "    cfg.MODEL.WEIGHTS = model_zoo.get_checkpoint_url(\n",
    "        \"COCO-InstanceSegmentation/mask_rcnn_X_101_32x8d_FPN_3x.yaml\"\n",
    "    )\n",
    "\n",
    "# no masking required?\n",
    "else:\n",
    "    cfg.merge_from_file(\n",
    "        model_zoo.get_config_file(\n",
    "            \"COCO-Detection/faster_rcnn_X_101_32x8d_FPN_3x.yaml\")\n",
    "    )\n",
    "    cfg.MODEL.WEIGHTS = \"detectron2://COCO-Detection/faster_rcnn_X_101_32x8d_FPN_3x/139173657/model_final_68b088.pkl\"\n",
    "\n",
    "# select datasets\n",
    "cfg.DATASETS.TRAIN = (\"my_dataset_train\",)\n",
    "cfg.DATASETS.TEST = (\"my_dataset_valid\",)\n",
    "cfg.TEST.EVAL_PERIOD = 10000\n",
    "cfg.DATALOADER.NUM_WORKERS = 0\n",
    "\n",
    "# training parameters\n",
    "cfg.SOLVER.IMS_PER_BATCH = 1\n",
    "cfg.SOLVER.BASE_LR = 0.00025  # pick a good LR\n",
    "\n",
    "# roi and classes\n",
    "cfg.MODEL.ROI_HEADS.BATCH_SIZE_PER_IMAGE = 512\n",
    "\n",
    "# set to \"RepeatFactorTrainingSampler\" in order to allow balanced sampling\n",
    "cfg.DATALOADER.SAMPLER_TRAIN = \"RepeatFactorTrainingSampler\"\n",
    "cfg.DATALOADER.REPEAT_THRESHOLD = 0.3\n",
    "\n",
    "if advanced:\n",
    "    _, cat_list = make_cat_advanced(simple=simple)\n",
    "else:\n",
    "    _, cat_list = make_categories(simple=simple)\n",
    "\n",
    "num_classes = len(list(cat_list)) if simple else len(list(cat_list.keys()))\n",
    "\n",
    "cfg.MODEL.ROI_HEADS.NUM_CLASSES = (\n",
    "    2 if simple else num_classes  # former 5\n",
    ")  # we have the malign and benign class / all 5 classes\n",
    "\n",
    "# Select Trainer\n",
    "if train:\n",
    "    os.makedirs(cfg.OUTPUT_DIR, exist_ok=True)\n",
    "    trainer = ud.CocoTrainer(cfg)\n",
    "    trainer.resume_or_load(resume=False)\n",
    "    trainer.train()"
   ]
  },
  {
   "cell_type": "markdown",
   "metadata": {},
   "source": [
    "## Setup for Evaluation"
   ]
  },
  {
   "cell_type": "code",
   "execution_count": null,
   "metadata": {},
   "outputs": [],
   "source": [
    "cfg.MODEL.WEIGHTS = os.path.join(cfg.OUTPUT_DIR, model_str)\n",
    "# set the testing threshold for this model\n",
    "cfg.MODEL.ROI_HEADS.SCORE_THRESH_TEST = 0.0\n",
    "cfg.DATASETS.TEST = (\"my_dataset_test\",)\n",
    "predictor = DefaultPredictor(cfg)\n",
    "\n",
    "# get the shuffled indexes\n",
    "dis = get_advanced_dis_df(df)\n",
    "dis_ex = get_advanced_dis_df(df_ex, mode=True)\n",
    "d = [os.path.join(\"./PNG2\", f\"{f}.png\") for f in df[F_KEY]]\n",
    "d_ex = [os.path.join(\"./PNG_external\", f\"{f}.png\")\n",
    "        for f in df_ex['id']]\n",
    "\n",
    "# get the active indexes for each dataset\n",
    "train_idx = dis[\"train\"][\"idx\"]\n",
    "valid_idx = dis[\"valid\"][\"idx\"]\n",
    "test_idx = dis[\"test\"][\"idx\"]\n",
    "text_ex_idx = dis_ex[\"test_external\"]"
   ]
  },
  {
   "cell_type": "markdown",
   "metadata": {},
   "source": [
    "## Evaluate classification performance:"
   ]
  },
  {
   "cell_type": "code",
   "execution_count": null,
   "metadata": {},
   "outputs": [],
   "source": [
    "# get the paths first\n",
    "df_ex, paths_ex = get_df_paths(mode=True)\n",
    "\n",
    "# perform evaluation\n",
    "res = ud.personal_score(predictor, df, simple=simple, mode='test', external=False)\n",
    "res_ex = ud.personal_score(predictor, df_ex, simple=simple,\n",
    "                        mode=\"test_external\", external=True, imgpath='./PNG_external')\n",
    "\n",
    "# Conf Matrices for the internal and external dataset\n",
    "ud.plot_confusion_matrix(res['conf'], ['Benign', 'Malignant'] if simple else reverse_cat_list, ft=24)\n",
    "ud.plot_confusion_matrix(res_ex['conf'], ['Benign', 'Malignant'] if simple else reverse_cat_list, ft=24)\n",
    "\n",
    "# Sensitivity, specificity, acc, ... for the datasets\n",
    "dh.print_confinfo(res['conf'])\n",
    "dh.print_confinfo(res_ex['conf'])"
   ]
  },
  {
   "cell_type": "markdown",
   "metadata": {},
   "source": [
    "## Interactive view on all segmentations in the test set"
   ]
  },
  {
   "cell_type": "code",
   "execution_count": null,
   "metadata": {},
   "outputs": [],
   "source": [
    "idx = widgets.IntSlider(min=0, max=len(test_idx) - 1,\n",
    "                        value=0, description=\"Index:\")\n",
    "proposed = widgets.IntSlider(\n",
    "    min=0, max=10, value=1, description=\"Number of Boxes:\")\n",
    "widgets.interactive(dh.update, idx=idx, proposes=proposed)"
   ]
  },
  {
   "cell_type": "markdown",
   "metadata": {},
   "source": [
    "## Generate the images with annotations and label"
   ]
  },
  {
   "cell_type": "code",
   "execution_count": null,
   "metadata": {},
   "outputs": [],
   "source": [
    "dh.generate_all_images(external=True)"
   ]
  },
  {
   "cell_type": "markdown",
   "metadata": {},
   "source": [
    "## Evaluate IoU and dice score"
   ]
  },
  {
   "cell_type": "code",
   "execution_count": null,
   "metadata": {},
   "outputs": [],
   "source": [
    "iou_mask, dice_mask, iou_bb, dice_bb = dh.get_iou_masks(external=False)\n",
    "iou_mask, dice_mask, iou_bb, dice_bb = dh.get_iou_masks(external=True)"
   ]
  }
 ],
 "metadata": {
  "kernelspec": {
   "name": "python3",
   "display_name": "Python 3.7.10 64-bit ('base': conda)"
  },
  "language_info": {
   "codemirror_mode": {
    "name": "ipython",
    "version": 3
   },
   "file_extension": ".py",
   "mimetype": "text/x-python",
   "name": "python",
   "nbconvert_exporter": "python",
   "pygments_lexer": "ipython3",
   "version": "3.7.10"
  },
  "interpreter": {
   "hash": "d6481cda3c5cc626f0189dd0fc810d033f4c44703363c81fe1fc69c80ce550c8"
  }
 },
 "nbformat": 4,
 "nbformat_minor": 4
}